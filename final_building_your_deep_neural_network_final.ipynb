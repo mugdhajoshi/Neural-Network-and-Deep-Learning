{
  "nbformat": 4,
  "nbformat_minor": 0,
  "metadata": {
    "colab": {
      "name": "final_building your_deep_neural_network_final.ipynb",
      "version": "0.3.2",
      "provenance": [],
      "collapsed_sections": [],
      "include_colab_link": true
    },
    "kernelspec": {
      "name": "python3",
      "display_name": "Python 3"
    }
  },
  "cells": [
    {
      "cell_type": "markdown",
      "metadata": {
        "id": "view-in-github",
        "colab_type": "text"
      },
      "source": [
        "<a href=\"https://colab.research.google.com/github/mugdhajoshi/Neural-Network-and-Deep-Learning/blob/master/final_building_your_deep_neural_network_final.ipynb\" target=\"_parent\"><img src=\"https://colab.research.google.com/assets/colab-badge.svg\" alt=\"Open In Colab\"/></a>"
      ]
    },
    {
      "cell_type": "code",
      "metadata": {
        "id": "0wHsbd7_mIjq",
        "colab_type": "code",
        "colab": {}
      },
      "source": [
        "import numpy as np\n",
        "import matplotlib.pyplot as plt\n",
        "%matplotlib inline\n",
        "np.random.seed(1)\n"
      ],
      "execution_count": 0,
      "outputs": []
    },
    {
      "cell_type": "markdown",
      "metadata": {
        "id": "ns9XSXbWoiWj",
        "colab_type": "text"
      },
      "source": [
        "# **Initialization **"
      ]
    },
    {
      "cell_type": "code",
      "metadata": {
        "id": "SXPFfvLvnGQB",
        "colab_type": "code",
        "colab": {}
      },
      "source": [
        "#initializing 2 layer neural network\n",
        "def initialize_partameters(n_x,n_h,n_y):\n",
        "  np.random.seed(1)\n",
        "  W1=np.random.randn(n_h,n_x)*0.01\n",
        "  b1=np.zeros((n_h,1))\n",
        "  W2=np.random.randn(n_y,n_h)*0.01\n",
        "  b2=np.zeros((n_y,1))\n",
        "  \n",
        "  assert(W1.shape==(n_h,n_x))\n",
        "  assert(b1.shape==(n_h,1))\n",
        "  assert(W2.shape==(n_y,n_h))\n",
        "  assert(b2.shape==(n_y,1))\n",
        "  \n",
        "  parameters={\"W1\":W1,\n",
        "              \"b1\":b1,\n",
        "              \"W2\":W2,\n",
        "              \"b2\":b2}\n",
        "  return parameters"
      ],
      "execution_count": 0,
      "outputs": []
    },
    {
      "cell_type": "code",
      "metadata": {
        "id": "wAiQloRkpxRR",
        "colab_type": "code",
        "colab": {}
      },
      "source": [
        "#initializing  L layer neural network\n",
        "def initialize_parameters_deep(layer_dims):\n",
        "  np.random.seed(3)\n",
        "  parameters = {}\n",
        "  L = len(layer_dims)\n",
        "  for l in range(1,L):\n",
        "    parameters[\"W\" + str(l)] = np.random.randn(layer_dims[l], layer_dims[l-1])\n",
        "    parameters[\"b\" + str(l)] = np.zeros(layer_dims[l], 1)\n",
        "    \n",
        "    assert(parameters['W' + str(l)].shape == (layer_dims[l], layer_dims[l-1]))\n",
        "    assert(parameters['b' + str(l)].shape == (layer_dims[l], 1))\n",
        "  return parameters\n"
      ],
      "execution_count": 0,
      "outputs": []
    },
    {
      "cell_type": "markdown",
      "metadata": {
        "id": "LeWczYTHvWJ3",
        "colab_type": "text"
      },
      "source": [
        "# Forward Propagation module\n"
      ]
    },
    {
      "cell_type": "code",
      "metadata": {
        "id": "ARw11ObbvblT",
        "colab_type": "code",
        "colab": {}
      },
      "source": [
        "#linear_forward\n",
        "def linear_forward(A, W, b):\n",
        "  Z=np.dot(W,A)+b\n",
        "  assert(Z.shape==(W.shape[0],A.shape[1]))\n",
        "  cache=(A,W,b)\n",
        "  return Z, cache"
      ],
      "execution_count": 0,
      "outputs": []
    },
    {
      "cell_type": "code",
      "metadata": {
        "id": "_lOv0eaVyX9e",
        "colab_type": "code",
        "colab": {}
      },
      "source": [
        "def sigmoid(Z):\n",
        "  A= 1/(1+np.exp(-Z))\n",
        "  cache = Z\n",
        "  return A, cache\n",
        "\n",
        "def relu(Z):\n",
        "  A=np.maximum(0,Z)\n",
        "  assert(A.shape == Z.shape)\n",
        "  cache = Z\n",
        "  return A,cache"
      ],
      "execution_count": 0,
      "outputs": []
    },
    {
      "cell_type": "code",
      "metadata": {
        "id": "bU9ZFsUhxOmX",
        "colab_type": "code",
        "colab": {}
      },
      "source": [
        "#linear_activation_forward\n",
        "def linear_activation_forward(A_prev, W, b, activation):\n",
        "  if activation == \"sigmoid\":\n",
        "    Z, linear_cache = linear_forward(A_prev, W, b)\n",
        "    A, activation_cache = sigmoid(Z)\n",
        "    \n",
        "  elif activation==\"relu\":\n",
        "    Z, linear_cache = linear_forward(A_prev, W, b)\n",
        "    A, activation_cache = relu(Z)\n",
        "    \n",
        "  assert(A.shape==(W.shape[0],A_prev.shape[1]))\n",
        "  cache = (linear_cache, activation_cache)\n",
        "  \n",
        "  return A, cache"
      ],
      "execution_count": 0,
      "outputs": []
    },
    {
      "cell_type": "code",
      "metadata": {
        "id": "oBL4li-Hz37f",
        "colab_type": "code",
        "colab": {}
      },
      "source": [
        "#L model forward\n",
        "def L_model_forward(X, parameters):\n",
        "  caches =[]\n",
        "  A = X\n",
        "  L = len(parameters)//2\\\n",
        "  \n",
        "  \n",
        "  for l in range(1,L):\n",
        "    A_prev = A\n",
        "    A, cache = linear_activation_forward(A_prev, parameters[\"W\"+ str(l)], parameters[\"b\"+ str(l)], \"relu\")\n",
        "    caches.append(cache)\n",
        "    \n",
        "    \n",
        "  AL, cache = linear_activation_forward(A, parameters[\"W\" + str(L)], parameters[\"b\" + str(L)], \"sigmoid\")\n",
        "  caches.append(cache)\n",
        "  \n",
        "  assert(AL.shape == (1,X.shape[1]))\n",
        "  return AL, caches"
      ],
      "execution_count": 0,
      "outputs": []
    },
    {
      "cell_type": "markdown",
      "metadata": {
        "id": "1PK8Hafi4N81",
        "colab_type": "text"
      },
      "source": [
        "# Cost Function\n"
      ]
    },
    {
      "cell_type": "code",
      "metadata": {
        "id": "5DvDuqFq4QL1",
        "colab_type": "code",
        "colab": {}
      },
      "source": [
        "def compute_cost(AL, Y):\n",
        "  m= Y.shape[1]\n",
        "  cost = -(1/m)*np.sum(Y*np.log(AL) + (1-Y)* np.log(1-AL))\n",
        "  cost = np.squeeze(cost)\n",
        "  assert(cost.shape == ())\n",
        "  return cost"
      ],
      "execution_count": 0,
      "outputs": []
    },
    {
      "cell_type": "markdown",
      "metadata": {
        "id": "umhklyNc8r4J",
        "colab_type": "text"
      },
      "source": [
        "# Backward Propagation Module\n"
      ]
    },
    {
      "cell_type": "code",
      "metadata": {
        "id": "namLCplJ8rgk",
        "colab_type": "code",
        "colab": {}
      },
      "source": [
        "def linear_backward(dZ, cache):\n",
        "  A_prev, W,b=cache\n",
        "  m=A_prev.shape[1]\n",
        "  \n",
        "  dW= (1/m)* np.dot(dZ,A_prev.T)\n",
        "  db= (np.sum(dZ,axis = 1, keepdims = True))/m\n",
        "  dA_prev= np.dot(W.T,dZ)\n",
        "  \n",
        "  assert(dW.shape==W.shape)\n",
        "  assert(db.shape==b.shape)\n",
        "  assert(dA_prev.shape==A_prev.shape)\n",
        "  \n",
        "  return dA_prev, dW, db\n",
        "\n",
        "  "
      ],
      "execution_count": 0,
      "outputs": []
    },
    {
      "cell_type": "code",
      "metadata": {
        "id": "hXBeM0-MWLBZ",
        "colab_type": "code",
        "colab": {}
      },
      "source": [
        "def relu_backward(dA, cache):\n",
        "  Z=cache\n",
        "  dZ=np.array(dA, copy=True)\n",
        "  dZ[z<=0]= 0       # When z <= 0, you should set dz to 0 as well. \n",
        "  \n",
        "  assert(dZ.shape==Z.shape)\n",
        "  return dZ\n",
        "\n",
        "\n",
        "def sigmoid_backward(dA, cache):\n",
        "  Z=cache\n",
        "  s = 1/(1+np.exp(-Z))\n",
        "  dZ = dA * s * (1-s)\n",
        "  \n",
        "  assert(dZ.shape==Z.shape)\n",
        "  return dZ"
      ],
      "execution_count": 0,
      "outputs": []
    },
    {
      "cell_type": "code",
      "metadata": {
        "id": "0d_3PysRIVPl",
        "colab_type": "code",
        "colab": {}
      },
      "source": [
        "#linear activation backward\n",
        "def linear_activation_backward(dA, cache, activation):\n",
        "  linear_cache, activation_cache = cache\n",
        "  \n",
        "  if activation == \"relu\":\n",
        "    dZ = relu_backward(dA, activation_cache)\n",
        "    dA_prev, dW, db = linear_backward(dZ, linear_cache)\n",
        "    \n",
        "  elif activation == \"sigmoid\":\n",
        "    dZ= sigmoid_backward(dA, activation_cache)\n",
        "    dA_prev, dW, db = linear_backward(dZ, linear_cache)\n",
        "  return dA_prev, dW, db\n",
        "\n",
        "    \n"
      ],
      "execution_count": 0,
      "outputs": []
    },
    {
      "cell_type": "code",
      "metadata": {
        "id": "mYtKYnkHds79",
        "colab_type": "code",
        "colab": {}
      },
      "source": [
        "#L-model backward\n",
        "def L_model_backward(AL, Y, caches):\n",
        "  grads={}\n",
        "  L = len(caches)\n",
        "  m = AL.shape[1]\n",
        "  Y = Y.reshape(AL.shape)\n",
        "  \n",
        "  \n",
        "  dAL= -(np.divide(Y, AL) - np.divide(1 - Y, 1 - AL))\n",
        "  \n",
        "  \n",
        "  current_cache =caches[-1]\n",
        "  grads[\"dA\" + str(L-1)], grads[\"dW\" + str(L)], grads[\"db\" + str(L)]= linear_activation_backward(dAL, current_cache, \"sigmoid\") \n",
        "  \n",
        "  \n",
        "  for l in reversed(range(L-1)):\n",
        "    current_cache = caches[l]\n",
        "    dA_prev_temp, dW_temp, db_temp = linear_activation_backward(grads[\"dA\"+str(l+1)], current_cache, \"relu\")\n",
        "    grads[\"dA\" + str(l)]= dA_prev_temp\n",
        "    grads[\"dW\" + str(l+1)] = dW_temp\n",
        "    grads[\"db\" + str(l+1)] = db_temp\n",
        "  return grads\n",
        "    \n",
        "    \n",
        "    "
      ],
      "execution_count": 0,
      "outputs": []
    },
    {
      "cell_type": "markdown",
      "metadata": {
        "id": "A8Px9gaHiKA9",
        "colab_type": "text"
      },
      "source": [
        "# Update Parameters\n"
      ]
    },
    {
      "cell_type": "code",
      "metadata": {
        "id": "oyabp1bXiFYk",
        "colab_type": "code",
        "colab": {}
      },
      "source": [
        "def update_parameters(parameters, grads, learning_rate):\n",
        "  L = len(parameters)//2 \n",
        "  for l in range(L):\n",
        "    parameters[\"W\" + str(l+1)] = parameters[\"W\"+ str(l+1)] - learning_rate * grads[\"dW\" + str(l+1)]\n",
        "    parameters[\"b\" + str(l+1)] = parameters[\"b\" + str(l+1)] - learning_rate * grads[\"db\" + str(l+1)]\n",
        "  return parameters"
      ],
      "execution_count": 0,
      "outputs": []
    },
    {
      "cell_type": "code",
      "metadata": {
        "id": "yh7crgHiv3je",
        "colab_type": "code",
        "colab": {}
      },
      "source": [
        ""
      ],
      "execution_count": 0,
      "outputs": []
    }
  ]
}